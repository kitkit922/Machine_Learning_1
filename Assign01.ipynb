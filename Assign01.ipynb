{
  "cells": [
    {
      "cell_type": "markdown",
      "metadata": {
        "id": "view-in-github",
        "colab_type": "text"
      },
      "source": [
        "<a href=\"https://colab.research.google.com/github/kitkit922/Machine_Learning_1/blob/main/Assign01.ipynb\" target=\"_parent\"><img src=\"https://colab.research.google.com/assets/colab-badge.svg\" alt=\"Open In Colab\"/></a>"
      ]
    },
    {
      "cell_type": "markdown",
      "id": "517286d9",
      "metadata": {
        "id": "517286d9"
      },
      "source": [
        "# Assignment 01"
      ]
    },
    {
      "cell_type": "markdown",
      "id": "c743eb86",
      "metadata": {
        "id": "c743eb86"
      },
      "source": [
        "## There are four questions in this Assignment. Run the code and explain what each cell of code is doing. You can add more cells when needed. Write your name and ID. Double click on the student name and ID to write your name and ID."
      ]
    },
    {
      "cell_type": "markdown",
      "id": "836bca43",
      "metadata": {
        "id": "836bca43"
      },
      "source": [
        "# Student Name : Tsz Kit Cheung"
      ]
    },
    {
      "cell_type": "markdown",
      "id": "a257a711",
      "metadata": {
        "id": "a257a711"
      },
      "source": [
        "# Student ID : N01555831"
      ]
    },
    {
      "cell_type": "code",
      "execution_count": null,
      "id": "7bebf0fe",
      "metadata": {
        "id": "7bebf0fe"
      },
      "outputs": [],
      "source": [
        "#Tsz Kit Cheung N01555831"
      ]
    },
    {
      "cell_type": "code",
      "execution_count": null,
      "id": "e49aecc9",
      "metadata": {
        "id": "e49aecc9"
      },
      "outputs": [],
      "source": [
        "import pandas as pd\n",
        "import numpy as np"
      ]
    },
    {
      "cell_type": "markdown",
      "id": "20baad43",
      "metadata": {
        "id": "20baad43"
      },
      "source": [
        "# Q # 1\n",
        "\n",
        "# Run the program and explain what each step of program is doing ?\n",
        "            "
      ]
    },
    {
      "cell_type": "code",
      "execution_count": null,
      "id": "228ebec2",
      "metadata": {
        "colab": {
          "base_uri": "https://localhost:8080/"
        },
        "id": "228ebec2",
        "outputId": "786caa24-531f-45cf-913f-d47fd8e0e237"
      },
      "outputs": [
        {
          "output_type": "stream",
          "name": "stdout",
          "text": [
            "5 5 5 5 5  \n",
            "4 4 4 4  \n",
            "3 3 3  \n",
            "2 2  \n",
            "1  \n"
          ]
        }
      ],
      "source": [
        "n = 5\n",
        "k = 0\n",
        "for i in range(n):\n",
        "    for j in range(n-k):\n",
        "        print(n-k, end = \" \")\n",
        "    print(' ')\n",
        "    k = k + 1"
      ]
    },
    {
      "cell_type": "code",
      "execution_count": null,
      "id": "56de563c",
      "metadata": {
        "id": "56de563c",
        "colab": {
          "base_uri": "https://localhost:8080/"
        },
        "outputId": "7d653684-047b-44dd-f900-14166ec1904f"
      },
      "outputs": [
        {
          "output_type": "stream",
          "name": "stdout",
          "text": [
            "5 5 5 5 5  \n",
            "4 4 4 4  \n",
            "3 3 3  \n",
            "2 2  \n",
            "1  \n"
          ]
        }
      ],
      "source": [
        "n = 5 #assign a variable n\n",
        "k = 0 #assign a variable k\n",
        "for i in range(n): #for loop, loop for n times, i will start from 0 and end with n-1, increment of i is 1 every loop\n",
        "    for j in range(n-k): #for loop, loop for n-k times, j will start from 0 and end with n-k-1, increment of j is 1 every loop\n",
        "        print(n-k, end = \" \") #print the value of n-k, end = \" \" can create a space and not go to the next line\n",
        "    print(' ') #go to the next line\n",
        "    k = k + 1 # every big loop, k increse by 1"
      ]
    },
    {
      "cell_type": "code",
      "execution_count": null,
      "id": "3c72e5ea",
      "metadata": {
        "id": "3c72e5ea"
      },
      "outputs": [],
      "source": []
    },
    {
      "cell_type": "markdown",
      "id": "c5a56e30",
      "metadata": {
        "id": "c5a56e30"
      },
      "source": [
        "# Q # 2\n",
        "\n",
        "#  Explain what each coding cell is generating ?\n",
        "\n",
        "\n"
      ]
    },
    {
      "cell_type": "code",
      "execution_count": null,
      "id": "b56f5e82",
      "metadata": {
        "id": "b56f5e82"
      },
      "outputs": [],
      "source": [
        "numbers = [1, 2, 3, 4, 5, 6, 7, 8, 9] #a list with 1-9 integers\n",
        "even = [] #assign a empty list 'even'\n",
        "odd = []  #assign a empty list 'odd'\n",
        "\n"
      ]
    },
    {
      "cell_type": "code",
      "source": [
        "for num in numbers: #for loop, loops over each integers in the list 'numbers'\n",
        "    if num % 2 == 0: #if the number in list 'numbers' is even, list 'even' will append the number\n",
        "        even.append(num)\n",
        "    else:\n",
        "        odd.append(num) #if the number in list 'numbers' is odd, list 'odd' will append the number\n",
        "print(even)\n",
        "print(odd)"
      ],
      "metadata": {
        "colab": {
          "base_uri": "https://localhost:8080/"
        },
        "id": "5lV8_7yY3-19",
        "outputId": "30f92ad9-9107-4117-c71e-28d851f5f2a4"
      },
      "id": "5lV8_7yY3-19",
      "execution_count": null,
      "outputs": [
        {
          "output_type": "stream",
          "name": "stdout",
          "text": [
            "[2, 4, 6, 8]\n",
            "[1, 3, 5, 7, 9]\n"
          ]
        }
      ]
    },
    {
      "cell_type": "code",
      "execution_count": null,
      "id": "07c62718",
      "metadata": {
        "colab": {
          "base_uri": "https://localhost:8080/"
        },
        "id": "07c62718",
        "outputId": "f37d3a7e-f1bf-49e0-cd85-7c75235d72ba"
      },
      "outputs": [
        {
          "output_type": "stream",
          "name": "stdout",
          "text": [
            "Numbers of even numbers : 4\n",
            "Numbers of odd numbers : 5\n"
          ]
        }
      ],
      "source": [
        "print(\"Numbers of even numbers : {}\".format(len(even))) # print out a string and the number of terms in list 'even'\n",
        "print(\"Numbers of odd numbers : {}\".format(len(odd))) # print out a string and the number of terms in list 'odd'"
      ]
    },
    {
      "cell_type": "markdown",
      "id": "7c155f43",
      "metadata": {
        "id": "7c155f43"
      },
      "source": [
        "# Q # 3\n",
        "\n",
        "# Explain what each step of code is doing."
      ]
    },
    {
      "cell_type": "code",
      "execution_count": null,
      "id": "151a31d0",
      "metadata": {
        "id": "151a31d0",
        "colab": {
          "base_uri": "https://localhost:8080/"
        },
        "outputId": "ad00d249-6622-490d-b1b6-072440c83f35"
      },
      "outputs": [
        {
          "output_type": "stream",
          "name": "stdout",
          "text": [
            "2\n",
            "3\n",
            "5\n",
            "7\n",
            "11\n",
            "13\n",
            "17\n",
            "19\n",
            "23\n",
            "29\n",
            "31\n",
            "37\n",
            "41\n",
            "43\n",
            "47\n",
            "53\n",
            "59\n",
            "61\n",
            "67\n",
            "71\n",
            "73\n",
            "79\n",
            "83\n",
            "89\n",
            "97\n"
          ]
        }
      ],
      "source": [
        "for x in range(2,100): #for loop, loop for 98 times, x will start from 2 and end with 99, increment of x is 1 every loop\n",
        "   a = 0 #assign a variable a, the value of a will be 0 after running a outer loop\n",
        "   for y in range(2,100): #for loop, loop for 98 times, y will start from 2 and end with 99, increment of y is 1 every loop\n",
        "        if (x % y) == 0.0: #if x is fully divisible by y, variable a increase by 1\n",
        "         a = a + 1\n",
        "   if a == 1: # if the value of a is 1, print out variable x\n",
        "     print(x)"
      ]
    },
    {
      "cell_type": "markdown",
      "id": "6f3b2f54",
      "metadata": {
        "id": "6f3b2f54"
      },
      "source": [
        "# Q # 4\n",
        "\n",
        "# By running a code below, you will get the df. Remove the rows of df containg \"NaN\" or \" ? \" ."
      ]
    },
    {
      "cell_type": "code",
      "execution_count": null,
      "id": "b74a88d1",
      "metadata": {
        "id": "b74a88d1"
      },
      "outputs": [],
      "source": [
        "df = pd.DataFrame({\"name\":[\"William\",\"Emma\",\"Sofia\",\"Markus\",\"Edward\",\"Thomas\",\"Ethan\",\"Olivia\",\"Arun\",\"Anika\",\"Paulo\"]\n",
        ",\"region\":[\"East\",np.nan,\"East\",\"South\",\"West\",\"West\",\"South\",\"West\",\"West\",\"East\",\"South\"]\n",
        ",\"sales\":[50000,52000,90000,np.nan,42000,72000,49000,np.nan,67000,65000,67000]\n",
        ",\"expenses\":[42000,43000,np.nan,44000,38000,39000,42000,np.nan,39000,44000,45000]\n",
        ",\"lossValues\":[12000,'?','?',np.nan,11000,33000,44000,10000,22000,30000,99000]})\n",
        "\n"
      ]
    },
    {
      "cell_type": "code",
      "execution_count": null,
      "id": "5d8b87be",
      "metadata": {
        "id": "5d8b87be",
        "colab": {
          "base_uri": "https://localhost:8080/",
          "height": 269
        },
        "outputId": "9ba770f6-a742-4aac-9309-676fbcb3b239"
      },
      "outputs": [
        {
          "output_type": "execute_result",
          "data": {
            "text/plain": [
              "       name region    sales  expenses  lossValues\n",
              "0   William   East  50000.0   42000.0     12000.0\n",
              "4    Edward   West  42000.0   38000.0     11000.0\n",
              "5    Thomas   West  72000.0   39000.0     33000.0\n",
              "6     Ethan  South  49000.0   42000.0     44000.0\n",
              "8      Arun   West  67000.0   39000.0     22000.0\n",
              "9     Anika   East  65000.0   44000.0     30000.0\n",
              "10    Paulo  South  67000.0   45000.0     99000.0"
            ],
            "text/html": [
              "\n",
              "  <div id=\"df-75174332-9216-442b-9205-9cb56e6c12bd\" class=\"colab-df-container\">\n",
              "    <div>\n",
              "<style scoped>\n",
              "    .dataframe tbody tr th:only-of-type {\n",
              "        vertical-align: middle;\n",
              "    }\n",
              "\n",
              "    .dataframe tbody tr th {\n",
              "        vertical-align: top;\n",
              "    }\n",
              "\n",
              "    .dataframe thead th {\n",
              "        text-align: right;\n",
              "    }\n",
              "</style>\n",
              "<table border=\"1\" class=\"dataframe\">\n",
              "  <thead>\n",
              "    <tr style=\"text-align: right;\">\n",
              "      <th></th>\n",
              "      <th>name</th>\n",
              "      <th>region</th>\n",
              "      <th>sales</th>\n",
              "      <th>expenses</th>\n",
              "      <th>lossValues</th>\n",
              "    </tr>\n",
              "  </thead>\n",
              "  <tbody>\n",
              "    <tr>\n",
              "      <th>0</th>\n",
              "      <td>William</td>\n",
              "      <td>East</td>\n",
              "      <td>50000.0</td>\n",
              "      <td>42000.0</td>\n",
              "      <td>12000.0</td>\n",
              "    </tr>\n",
              "    <tr>\n",
              "      <th>4</th>\n",
              "      <td>Edward</td>\n",
              "      <td>West</td>\n",
              "      <td>42000.0</td>\n",
              "      <td>38000.0</td>\n",
              "      <td>11000.0</td>\n",
              "    </tr>\n",
              "    <tr>\n",
              "      <th>5</th>\n",
              "      <td>Thomas</td>\n",
              "      <td>West</td>\n",
              "      <td>72000.0</td>\n",
              "      <td>39000.0</td>\n",
              "      <td>33000.0</td>\n",
              "    </tr>\n",
              "    <tr>\n",
              "      <th>6</th>\n",
              "      <td>Ethan</td>\n",
              "      <td>South</td>\n",
              "      <td>49000.0</td>\n",
              "      <td>42000.0</td>\n",
              "      <td>44000.0</td>\n",
              "    </tr>\n",
              "    <tr>\n",
              "      <th>8</th>\n",
              "      <td>Arun</td>\n",
              "      <td>West</td>\n",
              "      <td>67000.0</td>\n",
              "      <td>39000.0</td>\n",
              "      <td>22000.0</td>\n",
              "    </tr>\n",
              "    <tr>\n",
              "      <th>9</th>\n",
              "      <td>Anika</td>\n",
              "      <td>East</td>\n",
              "      <td>65000.0</td>\n",
              "      <td>44000.0</td>\n",
              "      <td>30000.0</td>\n",
              "    </tr>\n",
              "    <tr>\n",
              "      <th>10</th>\n",
              "      <td>Paulo</td>\n",
              "      <td>South</td>\n",
              "      <td>67000.0</td>\n",
              "      <td>45000.0</td>\n",
              "      <td>99000.0</td>\n",
              "    </tr>\n",
              "  </tbody>\n",
              "</table>\n",
              "</div>\n",
              "    <div class=\"colab-df-buttons\">\n",
              "\n",
              "  <div class=\"colab-df-container\">\n",
              "    <button class=\"colab-df-convert\" onclick=\"convertToInteractive('df-75174332-9216-442b-9205-9cb56e6c12bd')\"\n",
              "            title=\"Convert this dataframe to an interactive table.\"\n",
              "            style=\"display:none;\">\n",
              "\n",
              "  <svg xmlns=\"http://www.w3.org/2000/svg\" height=\"24px\" viewBox=\"0 -960 960 960\">\n",
              "    <path d=\"M120-120v-720h720v720H120Zm60-500h600v-160H180v160Zm220 220h160v-160H400v160Zm0 220h160v-160H400v160ZM180-400h160v-160H180v160Zm440 0h160v-160H620v160ZM180-180h160v-160H180v160Zm440 0h160v-160H620v160Z\"/>\n",
              "  </svg>\n",
              "    </button>\n",
              "\n",
              "  <style>\n",
              "    .colab-df-container {\n",
              "      display:flex;\n",
              "      gap: 12px;\n",
              "    }\n",
              "\n",
              "    .colab-df-convert {\n",
              "      background-color: #E8F0FE;\n",
              "      border: none;\n",
              "      border-radius: 50%;\n",
              "      cursor: pointer;\n",
              "      display: none;\n",
              "      fill: #1967D2;\n",
              "      height: 32px;\n",
              "      padding: 0 0 0 0;\n",
              "      width: 32px;\n",
              "    }\n",
              "\n",
              "    .colab-df-convert:hover {\n",
              "      background-color: #E2EBFA;\n",
              "      box-shadow: 0px 1px 2px rgba(60, 64, 67, 0.3), 0px 1px 3px 1px rgba(60, 64, 67, 0.15);\n",
              "      fill: #174EA6;\n",
              "    }\n",
              "\n",
              "    .colab-df-buttons div {\n",
              "      margin-bottom: 4px;\n",
              "    }\n",
              "\n",
              "    [theme=dark] .colab-df-convert {\n",
              "      background-color: #3B4455;\n",
              "      fill: #D2E3FC;\n",
              "    }\n",
              "\n",
              "    [theme=dark] .colab-df-convert:hover {\n",
              "      background-color: #434B5C;\n",
              "      box-shadow: 0px 1px 3px 1px rgba(0, 0, 0, 0.15);\n",
              "      filter: drop-shadow(0px 1px 2px rgba(0, 0, 0, 0.3));\n",
              "      fill: #FFFFFF;\n",
              "    }\n",
              "  </style>\n",
              "\n",
              "    <script>\n",
              "      const buttonEl =\n",
              "        document.querySelector('#df-75174332-9216-442b-9205-9cb56e6c12bd button.colab-df-convert');\n",
              "      buttonEl.style.display =\n",
              "        google.colab.kernel.accessAllowed ? 'block' : 'none';\n",
              "\n",
              "      async function convertToInteractive(key) {\n",
              "        const element = document.querySelector('#df-75174332-9216-442b-9205-9cb56e6c12bd');\n",
              "        const dataTable =\n",
              "          await google.colab.kernel.invokeFunction('convertToInteractive',\n",
              "                                                    [key], {});\n",
              "        if (!dataTable) return;\n",
              "\n",
              "        const docLinkHtml = 'Like what you see? Visit the ' +\n",
              "          '<a target=\"_blank\" href=https://colab.research.google.com/notebooks/data_table.ipynb>data table notebook</a>'\n",
              "          + ' to learn more about interactive tables.';\n",
              "        element.innerHTML = '';\n",
              "        dataTable['output_type'] = 'display_data';\n",
              "        await google.colab.output.renderOutput(dataTable, element);\n",
              "        const docLink = document.createElement('div');\n",
              "        docLink.innerHTML = docLinkHtml;\n",
              "        element.appendChild(docLink);\n",
              "      }\n",
              "    </script>\n",
              "  </div>\n",
              "\n",
              "\n",
              "<div id=\"df-818c5481-7b73-4f72-a358-8010303de0bb\">\n",
              "  <button class=\"colab-df-quickchart\" onclick=\"quickchart('df-818c5481-7b73-4f72-a358-8010303de0bb')\"\n",
              "            title=\"Suggest charts.\"\n",
              "            style=\"display:none;\">\n",
              "\n",
              "<svg xmlns=\"http://www.w3.org/2000/svg\" height=\"24px\"viewBox=\"0 0 24 24\"\n",
              "     width=\"24px\">\n",
              "    <g>\n",
              "        <path d=\"M19 3H5c-1.1 0-2 .9-2 2v14c0 1.1.9 2 2 2h14c1.1 0 2-.9 2-2V5c0-1.1-.9-2-2-2zM9 17H7v-7h2v7zm4 0h-2V7h2v10zm4 0h-2v-4h2v4z\"/>\n",
              "    </g>\n",
              "</svg>\n",
              "  </button>\n",
              "\n",
              "<style>\n",
              "  .colab-df-quickchart {\n",
              "      --bg-color: #E8F0FE;\n",
              "      --fill-color: #1967D2;\n",
              "      --hover-bg-color: #E2EBFA;\n",
              "      --hover-fill-color: #174EA6;\n",
              "      --disabled-fill-color: #AAA;\n",
              "      --disabled-bg-color: #DDD;\n",
              "  }\n",
              "\n",
              "  [theme=dark] .colab-df-quickchart {\n",
              "      --bg-color: #3B4455;\n",
              "      --fill-color: #D2E3FC;\n",
              "      --hover-bg-color: #434B5C;\n",
              "      --hover-fill-color: #FFFFFF;\n",
              "      --disabled-bg-color: #3B4455;\n",
              "      --disabled-fill-color: #666;\n",
              "  }\n",
              "\n",
              "  .colab-df-quickchart {\n",
              "    background-color: var(--bg-color);\n",
              "    border: none;\n",
              "    border-radius: 50%;\n",
              "    cursor: pointer;\n",
              "    display: none;\n",
              "    fill: var(--fill-color);\n",
              "    height: 32px;\n",
              "    padding: 0;\n",
              "    width: 32px;\n",
              "  }\n",
              "\n",
              "  .colab-df-quickchart:hover {\n",
              "    background-color: var(--hover-bg-color);\n",
              "    box-shadow: 0 1px 2px rgba(60, 64, 67, 0.3), 0 1px 3px 1px rgba(60, 64, 67, 0.15);\n",
              "    fill: var(--button-hover-fill-color);\n",
              "  }\n",
              "\n",
              "  .colab-df-quickchart-complete:disabled,\n",
              "  .colab-df-quickchart-complete:disabled:hover {\n",
              "    background-color: var(--disabled-bg-color);\n",
              "    fill: var(--disabled-fill-color);\n",
              "    box-shadow: none;\n",
              "  }\n",
              "\n",
              "  .colab-df-spinner {\n",
              "    border: 2px solid var(--fill-color);\n",
              "    border-color: transparent;\n",
              "    border-bottom-color: var(--fill-color);\n",
              "    animation:\n",
              "      spin 1s steps(1) infinite;\n",
              "  }\n",
              "\n",
              "  @keyframes spin {\n",
              "    0% {\n",
              "      border-color: transparent;\n",
              "      border-bottom-color: var(--fill-color);\n",
              "      border-left-color: var(--fill-color);\n",
              "    }\n",
              "    20% {\n",
              "      border-color: transparent;\n",
              "      border-left-color: var(--fill-color);\n",
              "      border-top-color: var(--fill-color);\n",
              "    }\n",
              "    30% {\n",
              "      border-color: transparent;\n",
              "      border-left-color: var(--fill-color);\n",
              "      border-top-color: var(--fill-color);\n",
              "      border-right-color: var(--fill-color);\n",
              "    }\n",
              "    40% {\n",
              "      border-color: transparent;\n",
              "      border-right-color: var(--fill-color);\n",
              "      border-top-color: var(--fill-color);\n",
              "    }\n",
              "    60% {\n",
              "      border-color: transparent;\n",
              "      border-right-color: var(--fill-color);\n",
              "    }\n",
              "    80% {\n",
              "      border-color: transparent;\n",
              "      border-right-color: var(--fill-color);\n",
              "      border-bottom-color: var(--fill-color);\n",
              "    }\n",
              "    90% {\n",
              "      border-color: transparent;\n",
              "      border-bottom-color: var(--fill-color);\n",
              "    }\n",
              "  }\n",
              "</style>\n",
              "\n",
              "  <script>\n",
              "    async function quickchart(key) {\n",
              "      const quickchartButtonEl =\n",
              "        document.querySelector('#' + key + ' button');\n",
              "      quickchartButtonEl.disabled = true;  // To prevent multiple clicks.\n",
              "      quickchartButtonEl.classList.add('colab-df-spinner');\n",
              "      try {\n",
              "        const charts = await google.colab.kernel.invokeFunction(\n",
              "            'suggestCharts', [key], {});\n",
              "      } catch (error) {\n",
              "        console.error('Error during call to suggestCharts:', error);\n",
              "      }\n",
              "      quickchartButtonEl.classList.remove('colab-df-spinner');\n",
              "      quickchartButtonEl.classList.add('colab-df-quickchart-complete');\n",
              "    }\n",
              "    (() => {\n",
              "      let quickchartButtonEl =\n",
              "        document.querySelector('#df-818c5481-7b73-4f72-a358-8010303de0bb button');\n",
              "      quickchartButtonEl.style.display =\n",
              "        google.colab.kernel.accessAllowed ? 'block' : 'none';\n",
              "    })();\n",
              "  </script>\n",
              "</div>\n",
              "    </div>\n",
              "  </div>\n"
            ]
          },
          "metadata": {},
          "execution_count": 16
        }
      ],
      "source": [
        "df.replace(to_replace ='?', value = np.nan, inplace = True)\n",
        "df.isnull()\n",
        "df.dropna()"
      ]
    },
    {
      "cell_type": "code",
      "execution_count": null,
      "id": "7b8ecec2",
      "metadata": {
        "id": "7b8ecec2"
      },
      "outputs": [],
      "source": []
    }
  ],
  "metadata": {
    "kernelspec": {
      "display_name": "Python 3 (ipykernel)",
      "language": "python",
      "name": "python3"
    },
    "language_info": {
      "codemirror_mode": {
        "name": "ipython",
        "version": 3
      },
      "file_extension": ".py",
      "mimetype": "text/x-python",
      "name": "python",
      "nbconvert_exporter": "python",
      "pygments_lexer": "ipython3",
      "version": "3.9.7"
    },
    "colab": {
      "provenance": [],
      "include_colab_link": true
    }
  },
  "nbformat": 4,
  "nbformat_minor": 5
}